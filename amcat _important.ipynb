{
 "cells": [
  {
   "cell_type": "code",
   "execution_count": 4,
   "id": "2828d9e1",
   "metadata": {},
   "outputs": [
    {
     "name": "stdout",
     "output_type": "stream",
     "text": [
      "Enter the first number: 12\n",
      "Enter the second number: 6\n",
      "The greatest common divisor (GCD) is: 6\n"
     ]
    }
   ],
   "source": [
    "def gcd():\n",
    "    a = int(input(\"Enter the first number: \"))\n",
    "    b = int(input(\"Enter the second number: \"))\n",
    "    i = 1\n",
    "    gc = 0\n",
    "    while i <= a and i <= b:\n",
    "        if (a % i == 0) and (b % i == 0):\n",
    "            gc = i\n",
    "        i = i + 1\n",
    "    return gc\n",
    "\n",
    "g = gcd()\n",
    "print(\"The greatest common divisor (GCD) is:\", g)\n"
   ]
  },
  {
   "cell_type": "code",
   "execution_count": 2,
   "id": "3d3fbca6",
   "metadata": {},
   "outputs": [
    {
     "name": "stdout",
     "output_type": "stream",
     "text": [
      "Enter the first number: 52\n",
      "Enter the second number: 65\n",
      "The least common multiple (LCM) of 52 and 65 is 260.\n"
     ]
    }
   ],
   "source": [
    "a = int(input(\"Enter the first number: \"))\n",
    "b = int(input(\"Enter the second number: \"))\n",
    "\n",
    "# Find the maximum of a and b\n",
    "if a > b:\n",
    "    max_num = a\n",
    "else:\n",
    "    max_num = b\n",
    "\n",
    "# Start from the larger number and check multiples until LCM is found\n",
    "lcm = max_num\n",
    "while True:\n",
    "    if lcm % a == 0 and lcm % b == 0:\n",
    "        print(f\"The least common multiple (LCM) of {a} and {b} is {lcm}.\")\n",
    "        break\n",
    "    lcm += max_num\n"
   ]
  },
  {
   "cell_type": "code",
   "execution_count": 6,
   "id": "47c9e88e",
   "metadata": {},
   "outputs": [
    {
     "name": "stdout",
     "output_type": "stream",
     "text": [
      "Enter a number: 69\n",
      "69 is not a prime number.\n"
     ]
    }
   ],
   "source": [
    "import math\n",
    "\n",
    "def is_prime(a):\n",
    "    if a <= 1:\n",
    "        return False\n",
    "    else:\n",
    "        for i in range(2, int(math.sqrt(a)) + 1):\n",
    "            if a % i == 0:\n",
    "                return False\n",
    "        return True\n",
    "\n",
    "# Example usage:\n",
    "num = int(input(\"Enter a number: \"))\n",
    "if is_prime(num):\n",
    "    print(f\"{num} is a prime number.\")\n",
    "else:\n",
    "    print(f\"{num} is not a prime number.\")\n"
   ]
  },
  {
   "cell_type": "code",
   "execution_count": 14,
   "id": "bae556c8",
   "metadata": {},
   "outputs": [
    {
     "name": "stdout",
     "output_type": "stream",
     "text": [
      "Enter a number: 1\n",
      "1 is an Armstrong number.\n"
     ]
    }
   ],
   "source": [
    "#armstrong \n",
    "def is_armstrong_number(number):\n",
    "    # Convert the number to a string to count the number of digits\n",
    "    num_str = str(number)\n",
    "    num_digits = len(num_str) \n",
    "    # Calculate the sum of digits raised to the power of the number of digits\n",
    "    sum_of_powers = sum(int(digit) ** num_digits for digit in num_str)\n",
    "    \n",
    "    # Check if the sum is equal to the original number\n",
    "    return number == sum_of_powers\n",
    "\n",
    "# Example usage:\n",
    "num = int(input(\"Enter a number: \"))\n",
    "\n",
    "if is_armstrong_number(num):\n",
    "    print(f\"{num} is an Armstrong number.\")\n",
    "else:\n",
    "    print(f\"{num} is not an Armstrong number.\")\n"
   ]
  },
  {
   "cell_type": "code",
   "execution_count": 12,
   "id": "212ad6ca",
   "metadata": {},
   "outputs": [],
   "source": [
    "#strong\n"
   ]
  },
  {
   "cell_type": "code",
   "execution_count": 15,
   "id": "6d47fad4",
   "metadata": {},
   "outputs": [],
   "source": [
    "#rev"
   ]
  },
  {
   "cell_type": "code",
   "execution_count": 19,
   "id": "1641c355",
   "metadata": {},
   "outputs": [
    {
     "name": "stdout",
     "output_type": "stream",
     "text": [
      "5\n",
      "6\n",
      "2\n",
      "6\n"
     ]
    }
   ],
   "source": [
    "#largest\n",
    "def maximum(a, b, c):\n",
    "    if (a >= b and a >= c):\n",
    "        largest = a\n",
    "    elif (b >= c):\n",
    "        largest = b\n",
    "    else:\n",
    "        largest = c\n",
    "    return largest\n",
    "\n",
    "a = int(input())\n",
    "b = int(input())\n",
    "c = int(input())\n",
    "print(maximum(a, b, c))\n"
   ]
  },
  {
   "cell_type": "markdown",
   "id": "e71c688e",
   "metadata": {},
   "source": [
    "In the code snippet you provided, for j in range(i+1, arr_size):, the reason for using i+1 as the starting value for the range is to avoid comparing an element with itself in a nested loop.\n"
   ]
  },
  {
   "cell_type": "code",
   "execution_count": 3,
   "id": "f2cdf7a4",
   "metadata": {},
   "outputs": [
    {
     "name": "stdout",
     "output_type": "stream",
     "text": [
      "Maximum difference is 110\n"
     ]
    }
   ],
   "source": [
    "# Python 3 code to find Maximum difference\n",
    "def maxDiff(arr, arr_size):\n",
    "    max_diff = arr[1] - arr[0]\n",
    "    for i in range( arr_size ):\n",
    "        for j in range( i+1, arr_size ):\n",
    "            if(arr[j] - arr[i] > max_diff): \n",
    "                max_diff = arr[j] - arr[i]\n",
    "    return max_diff\n",
    "arr = [1, 2, 90, 10, 111]\n",
    "size = len(arr)\n",
    "print (\"Maximum difference is\", maxDiff(arr, size))"
   ]
  },
  {
   "cell_type": "code",
   "execution_count": 5,
   "id": "0227aa22",
   "metadata": {},
   "outputs": [
    {
     "name": "stdout",
     "output_type": "stream",
     "text": [
      "3\n"
     ]
    }
   ],
   "source": [
    "def MissingNo(arr):\n",
    "    n = len(arr)\n",
    "    total = (n + 1) * (n + 2) // 2  # Correcting the formula\n",
    "    arr_sum = sum(arr)\n",
    "    return total - arr_sum\n",
    "\n",
    "arr = [1, 2, 4, 5]\n",
    "print(MissingNo(arr))\n"
   ]
  },
  {
   "cell_type": "code",
   "execution_count": 8,
   "id": "8f22da3a",
   "metadata": {},
   "outputs": [],
   "source": [
    "#circular alphabet\n",
    "def isVowel(ch):\n",
    " \n",
    "    if (ch != 'a' and ch != 'e' and\n",
    "        ch != 'i' and ch != 'o' and\n",
    "            ch != 'u'):\n",
    "\n",
    "        return False\n",
    "def replaceConsonants(s):\n",
    " \n",
    "\n",
    "    # Start traversing the string\n",
    "\n",
    "    for i in range(len(s)):\n",
    "\n",
    "        if (isVowel(s[i]) == False):\n",
    " \n",
    "\n",
    "            # if character is z,\n",
    "\n",
    "            # than replace it with character b\n",
    "\n",
    "            if (s[i] == 'z'):\n",
    "\n",
    "                s[i] = 'b'\n",
    " \n",
    "\n",
    "            # if the alphabet is not z\n",
    "\n",
    "            else:\n",
    " \n",
    "\n",
    "                # replace the element with\n",
    "\n",
    "                # next immediate alphabet\n",
    "\n",
    "                s[i] = chr(ord(s[i]) + 1)\n",
    " \n",
    "\n",
    "                # if next immediate alphabet is vowel,\n",
    "\n",
    "                # than take next 2nd immediate alphabet\n",
    "\n",
    "                # (since no two vowels occurs consecutively\n",
    "\n",
    "                # in alphabets) hence no further\n",
    "\n",
    "                # checking is required\n",
    "\n",
    "                if (isVowel(s[i]) == True):\n",
    "\n",
    "                    s[i] = chr(ord(s[i]) + 1)\n",
    " \n",
    "\n",
    "    return ''.join(s)"
   ]
  }
 ],
 "metadata": {
  "kernelspec": {
   "display_name": "Python 3 (ipykernel)",
   "language": "python",
   "name": "python3"
  },
  "language_info": {
   "codemirror_mode": {
    "name": "ipython",
    "version": 3
   },
   "file_extension": ".py",
   "mimetype": "text/x-python",
   "name": "python",
   "nbconvert_exporter": "python",
   "pygments_lexer": "ipython3",
   "version": "3.9.13"
  }
 },
 "nbformat": 4,
 "nbformat_minor": 5
}
