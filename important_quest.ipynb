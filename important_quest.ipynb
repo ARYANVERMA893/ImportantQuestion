{
 "cells": [
  {
   "cell_type": "code",
   "execution_count": 7,
   "id": "3a5488b8",
   "metadata": {},
   "outputs": [
    {
     "name": "stdout",
     "output_type": "stream",
     "text": [
      "enter n = 746\n",
      "The Given number is 746 and Reverse is 647\n"
     ]
    }
   ],
   "source": [
    "#reverse the number\n",
    "num=int(input(\"enter n = \"))\n",
    "temp=num\n",
    "rev=0\n",
    "while num>0:\n",
    "    rem=num %10\n",
    "\n",
    "    rev=(rev*10)+rem\n",
    "    num=num//10\n",
    "print(\"The Given number is {} and Reverse is {}\".format(temp, rev))\n"
   ]
  },
  {
   "cell_type": "code",
   "execution_count": 8,
   "id": "1f9f76df",
   "metadata": {},
   "outputs": [
    {
     "name": "stdout",
     "output_type": "stream",
     "text": [
      "enter the number for sequence5\n",
      "0\n",
      "1\n",
      "1\n",
      "2\n",
      "3\n"
     ]
    }
   ],
   "source": [
    "#fibonacci serise without recusion\n",
    "def recur_fibo(n):  \n",
    "    if n <= 1:  \n",
    "        return n  \n",
    "    else:  \n",
    "        return(recur_fibo(n-1) + recur_fibo(n-2))\n",
    "ntrem= int(input(\"enter the number for sequence\"))\n",
    "if ntrem<0:\n",
    "    print(nterm)\n",
    "else:\n",
    "    for i in range(ntrem):\n",
    "        print(recur_fibo(i))"
   ]
  },
  {
   "cell_type": "code",
   "execution_count": null,
   "id": "de51eb6b",
   "metadata": {},
   "outputs": [],
   "source": [
    "# without recursion\n"
   ]
  },
  {
   "cell_type": "code",
   "execution_count": 16,
   "id": "9ab089d9",
   "metadata": {},
   "outputs": [
    {
     "name": "stdout",
     "output_type": "stream",
     "text": [
      "48\n",
      "18\n",
      "GCD of 48 and 18 is 6\n"
     ]
    }
   ],
   "source": [
    "#with recursion\n",
    "def gcd(a, b):\n",
    "    if b == 0:\n",
    "        return a\n",
    "    return gcd(b, a % b)\n",
    "\n",
    "num1 = int(input())\n",
    "num2 = int(input())\n",
    "\n",
    "result = gcd(num1, num2)\n",
    "\n",
    "print(\"GCD of\", num1, \"and\", num2, \"is\", result)\n"
   ]
  },
  {
   "cell_type": "code",
   "execution_count": 39,
   "id": "af0be1bc",
   "metadata": {},
   "outputs": [
    {
     "name": "stdout",
     "output_type": "stream",
     "text": [
      "Enter the 1st string :credit bad\n",
      "Enter the 2nd string :debit card\n",
      "Strings are anagram\n"
     ]
    }
   ],
   "source": [
    "#sort the string\n",
    "#take user input\n",
    "String1 = input(\"Enter the 1st string :\")\n",
    "String2 = input(\"Enter the 2nd string :\")\n",
    "#check if length matches\n",
    "if len(String1) != len(String2):\n",
    "#if False\n",
    "    print(\"Strings are not anagram’\")\n",
    "else:\n",
    "#sorted function sort string by characters\n",
    "    String1 = sorted(String1)\n",
    "    String2 = sorted(String2)\n",
    "#check if now strings matches\n",
    "    if String1 == String2:\n",
    "#if True\n",
    "        print(\"Strings are anagram\")\n",
    "    else:\n",
    "        print(\"Strings are not anagram\")"
   ]
  },
  {
   "cell_type": "code",
   "execution_count": 34,
   "id": "05c1aa42",
   "metadata": {},
   "outputs": [
    {
     "name": "stdout",
     "output_type": "stream",
     "text": [
      "28\n",
      "perfect\n"
     ]
    }
   ],
   "source": [
    "#perfect number\n",
    "n = int(input())\n",
    "sump = 0\n",
    "\n",
    "for i in range(1, n):\n",
    "    if n % i == 0:\n",
    "        sump += i\n",
    "\n",
    "if sump == n:\n",
    "    print(\"perfect\")\n",
    "else:\n",
    "    print(\"not\")\n"
   ]
  },
  {
   "cell_type": "code",
   "execution_count": 37,
   "id": "0b6fd798",
   "metadata": {},
   "outputs": [
    {
     "name": "stdout",
     "output_type": "stream",
     "text": [
      "Number as a string: 42\n"
     ]
    },
    {
     "data": {
      "text/plain": [
       "str"
      ]
     },
     "execution_count": 37,
     "metadata": {},
     "output_type": "execute_result"
    }
   ],
   "source": [
    "num = 42\n",
    "num_str = str(num)\n",
    "print(\"Number as a string:\", num_str)\n",
    "type(num_str)\n"
   ]
  },
  {
   "cell_type": "code",
   "execution_count": 38,
   "id": "7137131d",
   "metadata": {},
   "outputs": [
    {
     "name": "stdout",
     "output_type": "stream",
     "text": [
      "Enter the numbertat\n",
      "palidrome\n"
     ]
    }
   ],
   "source": [
    "#palidrom number\n",
    "string1=input(\"Enter the string\")\n",
    "string2=string1[::-1]\n",
    "if string1==string2:\n",
    "    print(\"palidrome\")\n",
    "else:\n",
    "    print(\"(:-\")"
   ]
  },
  {
   "cell_type": "code",
   "execution_count": null,
   "id": "1d85b521",
   "metadata": {},
   "outputs": [],
   "source": [
    "#7. Write code to Calculate frequency of characters in a string\n"
   ]
  },
  {
   "cell_type": "code",
   "execution_count": 46,
   "id": "3b106db9",
   "metadata": {},
   "outputs": [
    {
     "name": "stdout",
     "output_type": "stream",
     "text": [
      "First string with wild characters : Prepins*a\n",
      "Second string without wild characters :: Prepinsta\n",
      "True\n"
     ]
    }
   ],
   "source": [
    "##??\n",
    "\n",
    "def solve(a,b):\n",
    "    n,m=len(a),len(b)\n",
    "    if n==0 and m==0:\n",
    "        return True\n",
    "    if n > 1 and a[0] == '*' and m == 0:\n",
    "        return False\n",
    "    if (n > 1 and a[0] == '?') or (n != 0 and m !=0 and a[0] == b[0]):\n",
    "        return solve(a[1:],b[1:]);\n",
    "    if n !=0 and a[0] == '*':\n",
    "        return solve(a[1:],b) or solve(a,b[1:])\n",
    "    return False\n",
    "\n",
    "str1=\"Prepins*a\"\n",
    "str2=\"Prepinsta\"\n",
    "print(\"First string with wild characters :\" , str1)\n",
    "print(\"Second string without wild characters ::\" , str2)\n",
    "print(solve(str1,str2))"
   ]
  },
  {
   "cell_type": "code",
   "execution_count": 48,
   "id": "c98a8de0",
   "metadata": {},
   "outputs": [
    {
     "name": "stdout",
     "output_type": "stream",
     "text": [
      "Enter Year:2028\n",
      "Leap Year\n"
     ]
    }
   ],
   "source": [
    "#leap year\n",
    "year = int(input(\"Enter Year:\"))\n",
    "if (year%400 == 0) or (year%4==0 and year%100!=0):\n",
    "    print(\"Leap Year\")\n",
    "else:\n",
    "    print(\"Not a Leap Year\")\n"
   ]
  },
  {
   "cell_type": "code",
   "execution_count": 59,
   "id": "49f04cc5",
   "metadata": {},
   "outputs": [
    {
     "name": "stdout",
     "output_type": "stream",
     "text": [
      "Enter the number 5\n",
      "the factroial of of 5 is 120\n"
     ]
    }
   ],
   "source": [
    "#factroial without rescursion\n",
    "def factroial(num):\n",
    "    if num ==0 or num==1:\n",
    "        return 1\n",
    "    result = 1\n",
    "    for i in range(1, n + 1):\n",
    "        result *= i\n",
    "    return result\n",
    "n= int(input(\"Enter the number \"))\n",
    "r=factroial(n)\n",
    "print(f\"the factroial of of {n} is {r}\")"
   ]
  },
  {
   "cell_type": "code",
   "execution_count": 51,
   "id": "6d1043bd",
   "metadata": {},
   "outputs": [
    {
     "name": "stdout",
     "output_type": "stream",
     "text": [
      "Enter the number 5\n",
      "the factroial of of 5 is 120\n"
     ]
    }
   ],
   "source": [
    "#factroiaL Using recursion\n",
    "def rec_fact(n):\n",
    "    if n==0 and n==1:\n",
    "        return 1\n",
    "    else:\n",
    "        return n * rec_fact(n-1)\n",
    "\n",
    "n= int(input(\"Enter the number \"))\n",
    "r=factroial(n)\n",
    "print(f\"the factroial of of {n} is {r}\")"
   ]
  },
  {
   "cell_type": "code",
   "execution_count": 57,
   "id": "ca43d1a2",
   "metadata": {},
   "outputs": [
    {
     "name": "stdout",
     "output_type": "stream",
     "text": [
      "3\n",
      "6\n"
     ]
    }
   ],
   "source": [
    "# sum of n natural number using recursion\n",
    "def getSum(num):\n",
    "    if num == 1:\n",
    "        return 1\n",
    "    return num + getSum(num-1)\n",
    "num=int(input())\n",
    "print(getSum(num))"
   ]
  },
  {
   "cell_type": "code",
   "execution_count": 64,
   "id": "48b00811",
   "metadata": {},
   "outputs": [
    {
     "name": "stdout",
     "output_type": "stream",
     "text": [
      "Enter the number 2\n",
      "2 is 3\n"
     ]
    }
   ],
   "source": [
    "# sum of n natural number without using recursion\n",
    "def getsum(num):\n",
    "    if num==1 or num==0:\n",
    "        return 0\n",
    "    else:\n",
    "        result=0\n",
    "        for i in range(1,num+1):\n",
    "            result=result+i\n",
    "        return result\n",
    "n= int(input(\"Enter the number \"))\n",
    "r=getsum(n)\n",
    "print(f\"{n} is {r}\")"
   ]
  },
  {
   "cell_type": "code",
   "execution_count": 65,
   "id": "b0b8d3e4",
   "metadata": {},
   "outputs": [
    {
     "name": "stdout",
     "output_type": "stream",
     "text": [
      "e\n",
      "Character is Vowel\n"
     ]
    }
   ],
   "source": [
    "#check if vovel\n",
    "#get user input\n",
    "Char =  input() \n",
    "#Check if the Char belong to set of Vowels\n",
    "if (Char == 'a' or Char == 'e' or Char == 'i' or Char == 'o' or Char == 'u'): \n",
    "    #if true \n",
    "    print(\"Character is Vowel\") \n",
    "else: \n",
    "    #if false\n",
    "    print(\"Character is Consonant\")"
   ]
  },
  {
   "cell_type": "code",
   "execution_count": 2,
   "id": "ea361ec3",
   "metadata": {},
   "outputs": [
    {
     "name": "stdout",
     "output_type": "stream",
     "text": [
      "5 \n",
      "5\n",
      "5\n"
     ]
    }
   ],
   "source": [
    "# sum of array\n",
    "# Read input size\n",
    "N = int(input())\n",
    "\n",
    "# Read space-separated integers and convert them to a list of integers\n",
    "array = list(map(int, input().split()))\n",
    "\n",
    "# Calculate the sum of the elements in the array\n",
    "array_sum = sum(array)\n",
    "\n",
    "# Print the sum\n",
    "print(array_sum)\n"
   ]
  },
  {
   "cell_type": "code",
   "execution_count": null,
   "id": "5aa07aa1",
   "metadata": {},
   "outputs": [],
   "source": []
  }
 ],
 "metadata": {
  "kernelspec": {
   "display_name": "Python 3 (ipykernel)",
   "language": "python",
   "name": "python3"
  },
  "language_info": {
   "codemirror_mode": {
    "name": "ipython",
    "version": 3
   },
   "file_extension": ".py",
   "mimetype": "text/x-python",
   "name": "python",
   "nbconvert_exporter": "python",
   "pygments_lexer": "ipython3",
   "version": "3.9.13"
  }
 },
 "nbformat": 4,
 "nbformat_minor": 5
}
